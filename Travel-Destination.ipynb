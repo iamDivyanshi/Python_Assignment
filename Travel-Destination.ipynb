{
  "nbformat": 4,
  "nbformat_minor": 0,
  "metadata": {
    "colab": {
      "provenance": [],
      "toc_visible": true,
      "authorship_tag": "ABX9TyPa8huQ6DQJc+ckYnwKyuvJ",
      "include_colab_link": true
    },
    "kernelspec": {
      "name": "python3",
      "display_name": "Python 3"
    },
    "language_info": {
      "name": "python"
    }
  },
  "cells": [
    {
      "cell_type": "markdown",
      "metadata": {
        "id": "view-in-github",
        "colab_type": "text"
      },
      "source": [
        "<a href=\"https://colab.research.google.com/github/iamDivyanshi/Python_Assignment/blob/main/Travel-Destination.ipynb\" target=\"_parent\"><img src=\"https://colab.research.google.com/assets/colab-badge.svg\" alt=\"Open In Colab\"/></a>"
      ]
    },
    {
      "cell_type": "code",
      "execution_count": 1,
      "metadata": {
        "colab": {
          "base_uri": "https://localhost:8080/",
          "height": 73
        },
        "id": "TfQlNV_x7zqX",
        "outputId": "b6015577-3d5c-4ff5-8de1-97f6f0cf3cfc"
      },
      "outputs": [
        {
          "output_type": "display_data",
          "data": {
            "text/plain": [
              "<IPython.core.display.HTML object>"
            ],
            "text/html": [
              "\n",
              "     <input type=\"file\" id=\"files-b2e2651c-6b34-474f-a4b1-711400ff0386\" name=\"files[]\" multiple disabled\n",
              "        style=\"border:none\" />\n",
              "     <output id=\"result-b2e2651c-6b34-474f-a4b1-711400ff0386\">\n",
              "      Upload widget is only available when the cell has been executed in the\n",
              "      current browser session. Please rerun this cell to enable.\n",
              "      </output>\n",
              "      <script>// Copyright 2017 Google LLC\n",
              "//\n",
              "// Licensed under the Apache License, Version 2.0 (the \"License\");\n",
              "// you may not use this file except in compliance with the License.\n",
              "// You may obtain a copy of the License at\n",
              "//\n",
              "//      http://www.apache.org/licenses/LICENSE-2.0\n",
              "//\n",
              "// Unless required by applicable law or agreed to in writing, software\n",
              "// distributed under the License is distributed on an \"AS IS\" BASIS,\n",
              "// WITHOUT WARRANTIES OR CONDITIONS OF ANY KIND, either express or implied.\n",
              "// See the License for the specific language governing permissions and\n",
              "// limitations under the License.\n",
              "\n",
              "/**\n",
              " * @fileoverview Helpers for google.colab Python module.\n",
              " */\n",
              "(function(scope) {\n",
              "function span(text, styleAttributes = {}) {\n",
              "  const element = document.createElement('span');\n",
              "  element.textContent = text;\n",
              "  for (const key of Object.keys(styleAttributes)) {\n",
              "    element.style[key] = styleAttributes[key];\n",
              "  }\n",
              "  return element;\n",
              "}\n",
              "\n",
              "// Max number of bytes which will be uploaded at a time.\n",
              "const MAX_PAYLOAD_SIZE = 100 * 1024;\n",
              "\n",
              "function _uploadFiles(inputId, outputId) {\n",
              "  const steps = uploadFilesStep(inputId, outputId);\n",
              "  const outputElement = document.getElementById(outputId);\n",
              "  // Cache steps on the outputElement to make it available for the next call\n",
              "  // to uploadFilesContinue from Python.\n",
              "  outputElement.steps = steps;\n",
              "\n",
              "  return _uploadFilesContinue(outputId);\n",
              "}\n",
              "\n",
              "// This is roughly an async generator (not supported in the browser yet),\n",
              "// where there are multiple asynchronous steps and the Python side is going\n",
              "// to poll for completion of each step.\n",
              "// This uses a Promise to block the python side on completion of each step,\n",
              "// then passes the result of the previous step as the input to the next step.\n",
              "function _uploadFilesContinue(outputId) {\n",
              "  const outputElement = document.getElementById(outputId);\n",
              "  const steps = outputElement.steps;\n",
              "\n",
              "  const next = steps.next(outputElement.lastPromiseValue);\n",
              "  return Promise.resolve(next.value.promise).then((value) => {\n",
              "    // Cache the last promise value to make it available to the next\n",
              "    // step of the generator.\n",
              "    outputElement.lastPromiseValue = value;\n",
              "    return next.value.response;\n",
              "  });\n",
              "}\n",
              "\n",
              "/**\n",
              " * Generator function which is called between each async step of the upload\n",
              " * process.\n",
              " * @param {string} inputId Element ID of the input file picker element.\n",
              " * @param {string} outputId Element ID of the output display.\n",
              " * @return {!Iterable<!Object>} Iterable of next steps.\n",
              " */\n",
              "function* uploadFilesStep(inputId, outputId) {\n",
              "  const inputElement = document.getElementById(inputId);\n",
              "  inputElement.disabled = false;\n",
              "\n",
              "  const outputElement = document.getElementById(outputId);\n",
              "  outputElement.innerHTML = '';\n",
              "\n",
              "  const pickedPromise = new Promise((resolve) => {\n",
              "    inputElement.addEventListener('change', (e) => {\n",
              "      resolve(e.target.files);\n",
              "    });\n",
              "  });\n",
              "\n",
              "  const cancel = document.createElement('button');\n",
              "  inputElement.parentElement.appendChild(cancel);\n",
              "  cancel.textContent = 'Cancel upload';\n",
              "  const cancelPromise = new Promise((resolve) => {\n",
              "    cancel.onclick = () => {\n",
              "      resolve(null);\n",
              "    };\n",
              "  });\n",
              "\n",
              "  // Wait for the user to pick the files.\n",
              "  const files = yield {\n",
              "    promise: Promise.race([pickedPromise, cancelPromise]),\n",
              "    response: {\n",
              "      action: 'starting',\n",
              "    }\n",
              "  };\n",
              "\n",
              "  cancel.remove();\n",
              "\n",
              "  // Disable the input element since further picks are not allowed.\n",
              "  inputElement.disabled = true;\n",
              "\n",
              "  if (!files) {\n",
              "    return {\n",
              "      response: {\n",
              "        action: 'complete',\n",
              "      }\n",
              "    };\n",
              "  }\n",
              "\n",
              "  for (const file of files) {\n",
              "    const li = document.createElement('li');\n",
              "    li.append(span(file.name, {fontWeight: 'bold'}));\n",
              "    li.append(span(\n",
              "        `(${file.type || 'n/a'}) - ${file.size} bytes, ` +\n",
              "        `last modified: ${\n",
              "            file.lastModifiedDate ? file.lastModifiedDate.toLocaleDateString() :\n",
              "                                    'n/a'} - `));\n",
              "    const percent = span('0% done');\n",
              "    li.appendChild(percent);\n",
              "\n",
              "    outputElement.appendChild(li);\n",
              "\n",
              "    const fileDataPromise = new Promise((resolve) => {\n",
              "      const reader = new FileReader();\n",
              "      reader.onload = (e) => {\n",
              "        resolve(e.target.result);\n",
              "      };\n",
              "      reader.readAsArrayBuffer(file);\n",
              "    });\n",
              "    // Wait for the data to be ready.\n",
              "    let fileData = yield {\n",
              "      promise: fileDataPromise,\n",
              "      response: {\n",
              "        action: 'continue',\n",
              "      }\n",
              "    };\n",
              "\n",
              "    // Use a chunked sending to avoid message size limits. See b/62115660.\n",
              "    let position = 0;\n",
              "    do {\n",
              "      const length = Math.min(fileData.byteLength - position, MAX_PAYLOAD_SIZE);\n",
              "      const chunk = new Uint8Array(fileData, position, length);\n",
              "      position += length;\n",
              "\n",
              "      const base64 = btoa(String.fromCharCode.apply(null, chunk));\n",
              "      yield {\n",
              "        response: {\n",
              "          action: 'append',\n",
              "          file: file.name,\n",
              "          data: base64,\n",
              "        },\n",
              "      };\n",
              "\n",
              "      let percentDone = fileData.byteLength === 0 ?\n",
              "          100 :\n",
              "          Math.round((position / fileData.byteLength) * 100);\n",
              "      percent.textContent = `${percentDone}% done`;\n",
              "\n",
              "    } while (position < fileData.byteLength);\n",
              "  }\n",
              "\n",
              "  // All done.\n",
              "  yield {\n",
              "    response: {\n",
              "      action: 'complete',\n",
              "    }\n",
              "  };\n",
              "}\n",
              "\n",
              "scope.google = scope.google || {};\n",
              "scope.google.colab = scope.google.colab || {};\n",
              "scope.google.colab._files = {\n",
              "  _uploadFiles,\n",
              "  _uploadFilesContinue,\n",
              "};\n",
              "})(self);\n",
              "</script> "
            ]
          },
          "metadata": {}
        },
        {
          "output_type": "stream",
          "name": "stdout",
          "text": [
            "Saving Travel details dataset.csv to Travel details dataset.csv\n"
          ]
        }
      ],
      "source": [
        "from google.colab import files\n",
        "\n",
        "\n",
        "uploaded = files.upload()"
      ]
    },
    {
      "cell_type": "code",
      "source": [
        "data = pd.read_csv('Travel details dataset.csv')"
      ],
      "metadata": {
        "id": "-Fx3_oitIVaQ"
      },
      "execution_count": 53,
      "outputs": []
    },
    {
      "cell_type": "code",
      "source": [
        "def standardize_date(date_str):\n",
        "    if pd.isna(date_str):  # Check if the date string is missing\n",
        "        return None\n",
        "    try:\n",
        "        return pd.to_datetime(date_str, format='%m/%d/%Y').strftime('%Y-%m-%d')\n",
        "    except:\n",
        "        try:\n",
        "            return pd.to_datetime(date_str, format='%m-%d-%Y').strftime('%Y-%m-%d')\n",
        "        except:\n",
        "            return None  # Return None if both formats fail\n",
        "\n",
        "data['Start date'] = data['Start date'].apply(standardize_date)\n",
        "data['End date'] = data['End date'].apply(standardize_date)"
      ],
      "metadata": {
        "id": "Lz3xJr6zIZ1x"
      },
      "execution_count": 54,
      "outputs": []
    },
    {
      "source": [
        "def clean_currency(value):\n",
        "    if isinstance(value, str):\n",
        "        value = value.replace('USD', '').replace('$', '').replace('€', '').strip()\n",
        "        # Remove commas before converting to float\n",
        "        value = value.replace(',', '')\n",
        "    return float(value) if value else np.nan\n",
        "\n",
        "data['Accommodation cost'] = data['Accommodation cost'].apply(clean_currency)\n",
        "data['Transportation cost'] = data['Transportation cost'].apply(clean_currency)"
      ],
      "cell_type": "code",
      "metadata": {
        "id": "7AsvyAB7Il7O"
      },
      "execution_count": 56,
      "outputs": []
    },
    {
      "cell_type": "code",
      "source": [
        "data.replace('########', np.nan, inplace=True)\n",
        "data.replace('...', np.nan, inplace=True)"
      ],
      "metadata": {
        "id": "V7pkc1icIgFA"
      },
      "execution_count": 57,
      "outputs": []
    },
    {
      "cell_type": "code",
      "source": [
        "data['Accommodation cost'].fillna(0, inplace=True)\n",
        "data['Transportation cost'].fillna(0, inplace=True)\n",
        "data['Transportation type'].fillna('Unknown', inplace=True)"
      ],
      "metadata": {
        "id": "m26AHyEBIwY4"
      },
      "execution_count": 58,
      "outputs": []
    },
    {
      "cell_type": "code",
      "source": [
        "country_dict = {\n",
        "    \"Paris\": \"Paris, France\",\n",
        "    \"Bali\": \"Bali, Indonesia\",\n",
        "    \"London\": \"London, UK\",\n",
        "    \"Tokyo\": \"Tokyo, Japan\",\n",
        "    \"New York\": \"New York, USA\",\n",
        "    \"Sydney\": \"Sydney, Australia\",\n",
        "    \"Barcelona\": \"Barcelona, Spain\",\n",
        "    \"Bangkok\": \"Bangkok, Thailand\",\n",
        "    \"Rome\": \"Rome, Italy\",\n",
        "    \"Hawaii\": \"Honolulu, Hawaii\",\n",
        "    \"Greece\": \"Greece\",\n",
        "    \"Egypt\": \"Egypt\",\n",
        "    \"Mexico\": \"Cancun, Mexico\",\n",
        "    \"Italy\": \"Rome, Italy\",\n",
        "    \"Spain\": \"Barcelona, Spain\",\n",
        "    \"Canada\": \"Vancouver, Canada\",\n",
        "    \"Japan\": \"Tokyo, Japan\",\n",
        "    \"Thailand\": \"Phuket, Thailand\",\n",
        "    \"France\": \"Paris, France\",\n",
        "    \"Australia\": \"Sydney, Australia\",\n",
        "    \"Brazil\": \"Rio de Janeiro, Brazil\",\n",
        "    \"South Korea\": \"Seoul, South Korea\",\n",
        "    \"United Kingdom\": \"London, UK\",\n",
        "    \"USA\": \"New York, USA\",\n",
        "    \"Amsterdam\": \"Amsterdam, Netherlands\"\n",
        "}\n"
      ],
      "metadata": {
        "id": "8N3Z_L_XIygw"
      },
      "execution_count": 59,
      "outputs": []
    },
    {
      "cell_type": "code",
      "source": [
        "data['Destination'] = data['Destination'].str.strip().str.title()"
      ],
      "metadata": {
        "id": "r101PbEMIykO"
      },
      "execution_count": 60,
      "outputs": []
    },
    {
      "cell_type": "code",
      "source": [
        "data['Destination'] = data['Destination'].replace(country_dict)"
      ],
      "metadata": {
        "id": "lhsanyx1I4yY"
      },
      "execution_count": 61,
      "outputs": []
    },
    {
      "cell_type": "code",
      "source": [
        "data['Transportation type'] = data['Transportation type'].replace({\n",
        "    \"Plane\": \"Flight\",\n",
        "    \"Flight\": \"Flight\",\n",
        "    \"Airplane\": \"Flight\",\n",
        "    \"Subway\": \"Train\",\n",
        "    \"Bus\": \"Bus\",\n",
        "    \"Car rental\": \"Car\",\n",
        "    \"Car Rental\": \"Car\",\n",
        "    \"Ferry\": \"Ferry\"\n",
        "})"
      ],
      "metadata": {
        "id": "J7k1339nI46M"
      },
      "execution_count": 62,
      "outputs": []
    },
    {
      "cell_type": "code",
      "source": [
        "if data.iloc[128].isnull().all():  # Note: Indexing is zero-based, so row 128 is at index 127\n",
        "    data.drop(index=128, inplace=True)"
      ],
      "metadata": {
        "id": "233xenlZJA-V"
      },
      "execution_count": 63,
      "outputs": []
    },
    {
      "cell_type": "code",
      "source": [
        "data.to_csv('cleaned_travel_data.csv', index=False)"
      ],
      "metadata": {
        "id": "4EOImkEWJDhp"
      },
      "execution_count": 64,
      "outputs": []
    },
    {
      "cell_type": "code",
      "source": [
        "from sklearn.feature_extraction.text import CountVectorizer\n",
        "from sklearn.metrics.pairwise import cosine_similarity"
      ],
      "metadata": {
        "id": "Ci9wZ8K6JDjx"
      },
      "execution_count": 65,
      "outputs": []
    },
    {
      "cell_type": "code",
      "source": [
        "df = pd.read_csv(\"Travel details dataset.csv\")"
      ],
      "metadata": {
        "id": "ydFUIM5jJDmB"
      },
      "execution_count": 66,
      "outputs": []
    },
    {
      "cell_type": "code",
      "source": [
        "df['Destination'] = df['Destination'].fillna('')\n",
        "df['Transportation type'] = df['Transportation type'].fillna('')\n",
        "df['Accommodation cost'] = df['Accommodation cost'].fillna('0')\n",
        "df['Transportation cost'] = df['Transportation cost'].fillna('0')"
      ],
      "metadata": {
        "id": "jQpbXQF7JDn6"
      },
      "execution_count": 67,
      "outputs": []
    },
    {
      "cell_type": "code",
      "source": [
        "def combine_features(row):\n",
        "    return f\"{row['Transportation type']} {row['Accommodation cost']} {row['Transportation cost']}\"\n",
        "\n",
        "df[\"combined_features\"] = df.apply(combine_features, axis=1)"
      ],
      "metadata": {
        "id": "7wDIZSxWJN0c"
      },
      "execution_count": 68,
      "outputs": []
    },
    {
      "cell_type": "code",
      "source": [
        "cv = CountVectorizer()\n",
        "count_matrix = cv.fit_transform(df[\"combined_features\"])"
      ],
      "metadata": {
        "id": "BSAmH8lvJN3D"
      },
      "execution_count": 69,
      "outputs": []
    },
    {
      "cell_type": "code",
      "source": [
        "cosine_sim = cosine_similarity(count_matrix)"
      ],
      "metadata": {
        "id": "9B5JMkY0JN6d"
      },
      "execution_count": 70,
      "outputs": []
    },
    {
      "cell_type": "code",
      "source": [
        "def get_destination_from_index(index):\n",
        "    return df[df.index==index][\"Destination\"].values[0]\n",
        "\n",
        "def get_index_from_destination(destination):\n",
        "    return df[df.Destination==destination].index.values[0]"
      ],
      "metadata": {
        "id": "7DaY0PPWJDrX"
      },
      "execution_count": 71,
      "outputs": []
    },
    {
      "cell_type": "code",
      "source": [
        "# Example user preferences\n",
        "user_transportation_type = \"plane\"\n",
        "user_accommodation_cost = \"2000\"\n",
        "user_transportation_cost = \"500\""
      ],
      "metadata": {
        "id": "Sk4oIpejJYpA"
      },
      "execution_count": 96,
      "outputs": []
    },
    {
      "cell_type": "code",
      "source": [
        "user_features = f\"{user_transportation_type} {user_accommodation_cost} {user_transportation_cost}\""
      ],
      "metadata": {
        "id": "EzMJaYdZJYrU"
      },
      "execution_count": 97,
      "outputs": []
    },
    {
      "cell_type": "code",
      "source": [
        "user_df = pd.DataFrame([user_features], columns=['combined_features'])\n",
        "user_count_matrix = cv.transform(user_df['combined_features'])\n",
        "user_cosine_sim = cosine_similarity(user_count_matrix, count_matrix)"
      ],
      "metadata": {
        "id": "077gwejwJYtY"
      },
      "execution_count": 98,
      "outputs": []
    },
    {
      "cell_type": "code",
      "source": [
        "similar_destinations = list(enumerate(user_cosine_sim[0]))\n",
        "sorted_similar_destinations = sorted(similar_destinations, key=lambda x: x[1], reverse=True)"
      ],
      "metadata": {
        "id": "p54lyZkyJYw2"
      },
      "execution_count": 99,
      "outputs": []
    },
    {
      "cell_type": "code",
      "source": [
        "i = 0\n",
        "for destination in sorted_similar_destinations:\n",
        "    print(get_destination_from_index(destination[0]))\n",
        "    i += 1\n",
        "    if i >= 5:\n",
        "        break"
      ],
      "metadata": {
        "colab": {
          "base_uri": "https://localhost:8080/"
        },
        "id": "wELkCFH4KXiK",
        "outputId": "5e4037ab-5aec-492a-e236-e6ef9813ee60"
      },
      "execution_count": 100,
      "outputs": [
        {
          "output_type": "stream",
          "name": "stdout",
          "text": [
            "Cape Town\n",
            "Bali\n",
            "Bangkok\n",
            "Japan\n",
            "Mexico\n"
          ]
        }
      ]
    }
  ]
}